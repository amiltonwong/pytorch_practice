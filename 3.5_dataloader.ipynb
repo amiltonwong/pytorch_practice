{
 "cells": [
  {
   "cell_type": "code",
   "execution_count": 2,
   "metadata": {},
   "outputs": [],
   "source": [
    "import torch\n",
    "import torch.utils.data as Data"
   ]
  },
  {
   "cell_type": "code",
   "execution_count": 3,
   "metadata": {
    "collapsed": true
   },
   "outputs": [],
   "source": [
    "BATCH_SIZE = 5"
   ]
  },
  {
   "cell_type": "code",
   "execution_count": 4,
   "metadata": {
    "collapsed": true
   },
   "outputs": [],
   "source": [
    "x = torch.linspace(1,10,10)  # this is x data (torch tensor\n",
    "y = torch.linspace(10,1,10)  # this is x data (torch tensor)"
   ]
  },
  {
   "cell_type": "code",
   "execution_count": 8,
   "metadata": {},
   "outputs": [],
   "source": [
    "torch_dataset = Data.TensorDataset(data_tensor=x, target_tensor=y)\n",
    "loader = Data.DataLoader(dataset=torch_dataset, batch_size=BATCH_SIZE, shuffle=True, num_workers=2)"
   ]
  },
  {
   "cell_type": "code",
   "execution_count": 10,
   "metadata": {},
   "outputs": [
    {
     "name": "stdout",
     "output_type": "stream",
     "text": [
      "Epoch:  0 | Step:  0 | batch x:  [ 8.  5.  3.  6.  7.] | batch y:  [ 3.  6.  8.  5.  4.]\n",
      "Epoch:  0 | Step:  1 | batch x:  [ 10.   9.   2.   4.   1.] | batch y:  [  1.   2.   9.   7.  10.]\n",
      "Epoch:  1 | Step:  0 | batch x:  [  3.   4.  10.   5.   8.] | batch y:  [ 8.  7.  1.  6.  3.]\n",
      "Epoch:  1 | Step:  1 | batch x:  [ 2.  6.  9.  7.  1.] | batch y:  [  9.   5.   2.   4.  10.]\n",
      "Epoch:  2 | Step:  0 | batch x:  [ 9.  4.  7.  2.  5.] | batch y:  [ 2.  7.  4.  9.  6.]\n",
      "Epoch:  2 | Step:  1 | batch x:  [  6.   8.   3.  10.   1.] | batch y:  [  5.   3.   8.   1.  10.]\n"
     ]
    }
   ],
   "source": [
    "for epoch in range(3):\n",
    "    for step, (batch_x, batch_y) in enumerate(loader):\n",
    "        # training ...\n",
    "        print('Epoch: ', epoch, '| Step: ', step, '| batch x: ',\n",
    "             batch_x.numpy(), '| batch y: ', batch_y.numpy())\n",
    "        "
   ]
  },
  {
   "cell_type": "code",
   "execution_count": null,
   "metadata": {
    "collapsed": true
   },
   "outputs": [],
   "source": []
  }
 ],
 "metadata": {
  "kernelspec": {
   "display_name": "Python 3",
   "language": "python",
   "name": "python3"
  },
  "language_info": {
   "codemirror_mode": {
    "name": "ipython",
    "version": 3
   },
   "file_extension": ".py",
   "mimetype": "text/x-python",
   "name": "python",
   "nbconvert_exporter": "python",
   "pygments_lexer": "ipython3",
   "version": "3.5.2"
  },
  "widgets": {
   "state": {},
   "version": "1.1.2"
  }
 },
 "nbformat": 4,
 "nbformat_minor": 2
}
