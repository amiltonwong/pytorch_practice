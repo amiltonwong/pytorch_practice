{
 "cells": [
  {
   "cell_type": "code",
   "execution_count": 1,
   "metadata": {
    "collapsed": true
   },
   "outputs": [],
   "source": [
    "import torch\n",
    "import torch.nn as nn\n",
    "from torch.autograd import Variable\n",
    "import torch.utils.data as Data\n",
    "import torchvision\n",
    "import matplotlib.pyplot as plt\n",
    "%matplotlib inline"
   ]
  },
  {
   "cell_type": "code",
   "execution_count": 3,
   "metadata": {
    "collapsed": true
   },
   "outputs": [],
   "source": [
    "# hyper parameters\n",
    "EPOCH = 2\n",
    "BATCH_SIZE = 50\n",
    "LR = 0.001\n",
    "DOWNLOAD_MNIST = False"
   ]
  },
  {
   "cell_type": "code",
   "execution_count": 4,
   "metadata": {},
   "outputs": [
    {
     "name": "stdout",
     "output_type": "stream",
     "text": [
      "Downloading http://yann.lecun.com/exdb/mnist/train-images-idx3-ubyte.gz\n",
      "Downloading http://yann.lecun.com/exdb/mnist/train-labels-idx1-ubyte.gz\n",
      "Downloading http://yann.lecun.com/exdb/mnist/t10k-images-idx3-ubyte.gz\n",
      "Downloading http://yann.lecun.com/exdb/mnist/t10k-labels-idx1-ubyte.gz\n",
      "Processing...\n",
      "Done!\n"
     ]
    }
   ],
   "source": [
    "train_data = torchvision.datasets.MNIST(\n",
    "    root='./mnist',\n",
    "    train=True,\n",
    "    transform=torchvision.transforms.ToTensor(),  # value : (0,1)\n",
    "    download=DOWNLOAD_MNIST\n",
    ")"
   ]
  },
  {
   "cell_type": "code",
   "execution_count": 6,
   "metadata": {},
   "outputs": [
    {
     "data": {
      "text/plain": [
       "torchvision.datasets.mnist.MNIST"
      ]
     },
     "execution_count": 6,
     "metadata": {},
     "output_type": "execute_result"
    }
   ],
   "source": [
    "type(train_data)"
   ]
  },
  {
   "cell_type": "code",
   "execution_count": 5,
   "metadata": {},
   "outputs": [
    {
     "name": "stdout",
     "output_type": "stream",
     "text": [
      "torch.Size([60000, 28, 28])\n",
      "torch.Size([60000])\n"
     ]
    },
    {
     "data": {
      "text/plain": [
       "<matplotlib.text.Text at 0x7f622922f320>"
      ]
     },
     "execution_count": 5,
     "metadata": {},
     "output_type": "execute_result"
    },
    {
     "data": {
      "image/png": "[encoded data removed]",
      "text/plain": [
       "<matplotlib.figure.Figure at 0x7f62292876d8>"
      ]
     },
     "metadata": {},
     "output_type": "display_data"
    }
   ],
   "source": [
    "# plot one example\n",
    "print(train_data.train_data.size())\n",
    "print(train_data.train_labels.size())\n",
    "plt.imshow(train_data.train_data[0].numpy(), cmap='gray')\n",
    "plt.title('%i' % train_data.train_labels[0])"
   ]
  },
  {
   "cell_type": "code",
   "execution_count": 7,
   "metadata": {
    "collapsed": true
   },
   "outputs": [],
   "source": [
    "train_loader = Data.DataLoader(dataset=train_data, batch_size=BATCH_SIZE, shuffle=True, num_workers=4)"
   ]
  },
  {
   "cell_type": "code",
   "execution_count": 10,
   "metadata": {
    "collapsed": true
   },
   "outputs": [],
   "source": [
    "# convert test data into Variable, pick 2000 samples to speed up testing\n",
    "test_data = torchvision.datasets.MNIST(root='./mnist/', train=False)\n",
    "test_x = Variable(torch.unsqueeze(test_data.test_data, dim=1), volatile=True).type(torch.FloatTensor)[:2000]/255.   # shape from (2000, 28, 28) to (2000, 1, 28, 28), value in range(0,1)\n",
    "test_y = test_data.test_labels[:2000]\n"
   ]
  },
  {
   "cell_type": "code",
   "execution_count": 11,
   "metadata": {
    "collapsed": true
   },
   "outputs": [],
   "source": [
    "class CNN(nn.Module):\n",
    "    def __init__(self):\n",
    "        super(CNN, self).__init__()\n",
    "        self.conv1 = nn.Sequential(         # input shape (1, 28, 28)\n",
    "            nn.Conv2d(\n",
    "                in_channels=1,              # input height\n",
    "                out_channels=16,            # n_filters\n",
    "                kernel_size=5,              # filter size\n",
    "                stride=1,                   # filter movement/step\n",
    "                padding=2,                  # if want same width and length of this image after con2d, padding=(kernel_size-1)/2 if stride=1\n",
    "            ),                              # output shape (16, 28, 28)\n",
    "            nn.ReLU(),                      # activation\n",
    "            nn.MaxPool2d(kernel_size=2),    # choose max value in 2x2 area, output shape (16, 14, 14)\n",
    "        )\n",
    "        self.conv2 = nn.Sequential(         # input shape (16, 14, 14)\n",
    "            nn.Conv2d(16, 32, 5, 1, 2),     # output shape (32, 14, 14)\n",
    "            nn.ReLU(),                      # activation\n",
    "            nn.MaxPool2d(2),                # output shape (32, 7, 7)\n",
    "        )\n",
    "        self.out = nn.Linear(32 * 7 * 7, 10)   # fully connected layer, output 10 classes\n",
    "\n",
    "    def forward(self, x):                   # in forward, needs to consider batch_size dim.\n",
    "        x = self.conv1(x)\n",
    "        x = self.conv2(x)                   # -> (batch_size, 32, 7, 7)\n",
    "        x = x.view(x.size(0), -1)           # flatten the output of conv2 to (batch_size, 32 * 7 * 7)\n",
    "        output = self.out(x)\n",
    "        return output"
   ]
  },
  {
   "cell_type": "code",
   "execution_count": 12,
   "metadata": {},
   "outputs": [
    {
     "name": "stdout",
     "output_type": "stream",
     "text": [
      "CNN (\n",
      "  (conv1): Sequential (\n",
      "    (0): Conv2d(1, 16, kernel_size=(5, 5), stride=(1, 1), padding=(2, 2))\n",
      "    (1): ReLU ()\n",
      "    (2): MaxPool2d (size=(2, 2), stride=(2, 2), dilation=(1, 1))\n",
      "  )\n",
      "  (conv2): Sequential (\n",
      "    (0): Conv2d(16, 32, kernel_size=(5, 5), stride=(1, 1), padding=(2, 2))\n",
      "    (1): ReLU ()\n",
      "    (2): MaxPool2d (size=(2, 2), stride=(2, 2), dilation=(1, 1))\n",
      "  )\n",
      "  (out): Linear (1568 -> 10)\n",
      ")\n"
     ]
    }
   ],
   "source": [
    "cnn = CNN()\n",
    "print(cnn)"
   ]
  },
  {
   "cell_type": "code",
   "execution_count": 13,
   "metadata": {
    "collapsed": true
   },
   "outputs": [],
   "source": [
    "# Define the optimizer and loss function\n",
    "optimizer = torch.optim.Adam(cnn.parameters(), lr=LR)\n",
    "loss_func = nn.CrossEntropyLoss()   # the target label is  not one-hotted"
   ]
  },
  {
   "cell_type": "code",
   "execution_count": 14,
   "metadata": {},
   "outputs": [
    {
     "name": "stdout",
     "output_type": "stream",
     "text": [
      "Epoch:  0 | train loss: 2.3074 | test accuracy: 0.10\n",
      "Epoch:  0 | train loss: 0.5347 | test accuracy: 0.74\n",
      "Epoch:  0 | train loss: 0.2527 | test accuracy: 0.90\n",
      "Epoch:  0 | train loss: 0.0915 | test accuracy: 0.91\n",
      "Epoch:  0 | train loss: 0.2256 | test accuracy: 0.94\n",
      "Epoch:  0 | train loss: 0.0629 | test accuracy: 0.95\n",
      "Epoch:  0 | train loss: 0.0994 | test accuracy: 0.95\n",
      "Epoch:  0 | train loss: 0.2149 | test accuracy: 0.94\n",
      "Epoch:  0 | train loss: 0.0766 | test accuracy: 0.96\n",
      "Epoch:  0 | train loss: 0.1013 | test accuracy: 0.96\n",
      "Epoch:  0 | train loss: 0.0502 | test accuracy: 0.97\n",
      "Epoch:  0 | train loss: 0.0622 | test accuracy: 0.97\n",
      "Epoch:  0 | train loss: 0.0926 | test accuracy: 0.96\n",
      "Epoch:  0 | train loss: 0.0114 | test accuracy: 0.97\n",
      "Epoch:  0 | train loss: 0.1805 | test accuracy: 0.97\n",
      "Epoch:  0 | train loss: 0.1873 | test accuracy: 0.97\n",
      "Epoch:  0 | train loss: 0.2410 | test accuracy: 0.97\n",
      "Epoch:  0 | train loss: 0.0459 | test accuracy: 0.98\n",
      "Epoch:  0 | train loss: 0.0664 | test accuracy: 0.97\n",
      "Epoch:  0 | train loss: 0.0362 | test accuracy: 0.96\n",
      "Epoch:  0 | train loss: 0.2097 | test accuracy: 0.97\n",
      "Epoch:  0 | train loss: 0.0487 | test accuracy: 0.98\n",
      "Epoch:  0 | train loss: 0.0239 | test accuracy: 0.97\n",
      "Epoch:  0 | train loss: 0.1165 | test accuracy: 0.98\n",
      "Epoch:  1 | train loss: 0.0176 | test accuracy: 0.98\n",
      "Epoch:  1 | train loss: 0.0778 | test accuracy: 0.97\n",
      "Epoch:  1 | train loss: 0.1553 | test accuracy: 0.98\n",
      "Epoch:  1 | train loss: 0.0300 | test accuracy: 0.98\n",
      "Epoch:  1 | train loss: 0.0578 | test accuracy: 0.98\n",
      "Epoch:  1 | train loss: 0.0893 | test accuracy: 0.98\n",
      "Epoch:  1 | train loss: 0.0716 | test accuracy: 0.98\n",
      "Epoch:  1 | train loss: 0.0703 | test accuracy: 0.98\n",
      "Epoch:  1 | train loss: 0.0167 | test accuracy: 0.98\n",
      "Epoch:  1 | train loss: 0.0206 | test accuracy: 0.98\n",
      "Epoch:  1 | train loss: 0.0438 | test accuracy: 0.98\n",
      "Epoch:  1 | train loss: 0.0251 | test accuracy: 0.98\n",
      "Epoch:  1 | train loss: 0.0239 | test accuracy: 0.98\n",
      "Epoch:  1 | train loss: 0.1810 | test accuracy: 0.98\n",
      "Epoch:  1 | train loss: 0.1480 | test accuracy: 0.98\n",
      "Epoch:  1 | train loss: 0.1303 | test accuracy: 0.98\n",
      "Epoch:  1 | train loss: 0.0523 | test accuracy: 0.98\n",
      "Epoch:  1 | train loss: 0.0121 | test accuracy: 0.98\n",
      "Epoch:  1 | train loss: 0.0991 | test accuracy: 0.98\n",
      "Epoch:  1 | train loss: 0.0118 | test accuracy: 0.98\n",
      "Epoch:  1 | train loss: 0.0192 | test accuracy: 0.98\n",
      "Epoch:  1 | train loss: 0.0573 | test accuracy: 0.98\n",
      "Epoch:  1 | train loss: 0.0152 | test accuracy: 0.98\n",
      "Epoch:  1 | train loss: 0.0911 | test accuracy: 0.99\n"
     ]
    }
   ],
   "source": [
    "# training and testing\n",
    "for epoch in range(EPOCH):\n",
    "    for step, (x,y) in enumerate(train_loader):  # gives batch data, normalize x \n",
    "        b_x = Variable(x)   # batch x\n",
    "        b_y = Variable(y)   # batch y\n",
    "        \n",
    "        output = cnn(b_x)   # cnn output\n",
    "        loss = loss_func(output, b_y)  # cross_entropy loss\n",
    "        optimizer.zero_grad()\n",
    "        loss.backward()\n",
    "        optimizer.step()\n",
    "        \n",
    "        if step % 50 == 0:\n",
    "            test_output = cnn(test_x)\n",
    "            pred_y = torch.max(test_output, 1)[1].data.squeeze()\n",
    "            accuracy = sum(pred_y == test_y) / float(test_y.size(0))\n",
    "            print('Epoch: ', epoch, '| train loss: %.4f' % loss.data[0], '| test accuracy: %.4f' % accuracy)"
   ]
  },
  {
   "cell_type": "code",
   "execution_count": 15,
   "metadata": {},
   "outputs": [
    {
     "name": "stdout",
     "output_type": "stream",
     "text": [
      "[7 2 1 0 4 1 4 9 5 9] prediction number\n",
      "[7 2 1 0 4 1 4 9 5 9] real number\n"
     ]
    }
   ],
   "source": [
    "# print 10 predictions from test data\n",
    "test_output = cnn(test_x[:10])\n",
    "pred_y = torch.max(test_output, 1)[1].data.numpy().squeeze()\n",
    "print(pred_y, 'prediction number')\n",
    "print(test_y[:10].numpy(), 'real number')"
   ]
  },
  {
   "cell_type": "code",
   "execution_count": null,
   "metadata": {
    "collapsed": true
   },
   "outputs": [],
   "source": []
  },
  {
   "cell_type": "code",
   "execution_count": null,
   "metadata": {
    "collapsed": true
   },
   "outputs": [],
   "source": []
  },
  {
   "cell_type": "code",
   "execution_count": 9,
   "metadata": {
    "collapsed": true
   },
   "outputs": [],
   "source": [
    "test_loader = Data.DataLoader(dataset=test_data, batch_size=BATCH_SIZE, num_workers=4)"
   ]
  },
  {
   "cell_type": "code",
   "execution_count": null,
   "metadata": {
    "collapsed": true
   },
   "outputs": [],
   "source": [
    "test_x = Variable(torch.unsqueeze(test_data.test_data, dim=1))"
   ]
  }
 ],
 "metadata": {
  "kernelspec": {
   "display_name": "Python 3",
   "language": "python",
   "name": "python3"
  },
  "language_info": {
   "codemirror_mode": {
    "name": "ipython",
    "version": 3
   },
   "file_extension": ".py",
   "mimetype": "text/x-python",
   "name": "python",
   "nbconvert_exporter": "python",
   "pygments_lexer": "ipython3",
   "version": "3.5.2"
  },
  "widgets": {
   "state": {},
   "version": "1.1.2"
  }
 },
 "nbformat": 4,
 "nbformat_minor": 2
}
